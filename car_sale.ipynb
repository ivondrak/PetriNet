{
 "cells": [
  {
   "cell_type": "markdown",
   "source": [
    "### Car Sale Process\n",
    "Process is described by the following Petri Net based diagram where flashes are tokens.\n",
    "\n",
    "![Process Diagram](PN1.png)\n",
    "\n",
    "Modules must be imported first:"
   ],
   "metadata": {
    "collapsed": false
   },
   "id": "bfeb896978afed08"
  },
  {
   "cell_type": "code",
   "execution_count": 1,
   "id": "initial_id",
   "metadata": {
    "collapsed": true,
    "ExecuteTime": {
     "end_time": "2024-03-14T12:38:31.944874Z",
     "start_time": "2024-03-14T12:38:31.939602Z"
    }
   },
   "outputs": [],
   "source": [
    "from petrinet import PetriNet\n",
    "from place import Place\n",
    "from transition import Transition"
   ]
  },
  {
   "cell_type": "markdown",
   "source": [
    "PetriNet is initialized and places from diagram defined.\n",
    "Every place is instantiated with its name and number of tokens. "
   ],
   "metadata": {
    "collapsed": false
   },
   "id": "cac9828bfa617d1e"
  },
  {
   "cell_type": "code",
   "outputs": [
    {
     "name": "stdout",
     "output_type": "stream",
     "text": [
      "Set of places: \n",
      "Place Customer has 1 token(s)\n",
      "Place Customer has 0 token(s)\n",
      "Place Customer has 0 token(s)\n",
      "Place Customer has 0 token(s)\n",
      "Place Salesman has 1 token(s)\n",
      "Place Salesman has 0 token(s)\n",
      "Place Salesman has 0 token(s)\n",
      "Place Salesman has 0 token(s)\n",
      "Place Order has 0 token(s)\n",
      "Place Order has 0 token(s)\n",
      "Place Accountant has 1 token(s)\n",
      "Place Financing has 0 token(s)\n",
      "Place Car has 0 token(s)\n",
      "Place Protocol has 0 token(s)\n"
     ]
    }
   ],
   "source": [
    "pn = PetriNet()\n",
    "\n",
    "p00 = Place(\"Customer\", 1)\n",
    "p01 = Place(\"Customer\")\n",
    "p02 = Place(\"Customer\")\n",
    "p03 = Place(\"Customer\")\n",
    "pn.add_place(p00)\n",
    "pn.add_place(p01)\n",
    "pn.add_place(p02)\n",
    "pn.add_place(p03)\n",
    "\n",
    "p10 = Place(\"Salesman\", 1)\n",
    "p11 = Place(\"Salesman\")\n",
    "p12 = Place(\"Salesman\")\n",
    "p13 = Place(\"Salesman\")\n",
    "pn.add_place(p10)\n",
    "pn.add_place(p11)\n",
    "pn.add_place(p12)\n",
    "pn.add_place(p13)\n",
    "\n",
    "p20 = Place(\"Order\")\n",
    "p21 = Place(\"Order\")\n",
    "pn.add_place(p20)\n",
    "pn.add_place(p21)\n",
    "\n",
    "p40 = Place(\"Accountant\", 1)\n",
    "p50 = Place(\"Financing\")\n",
    "p60 = Place(\"Car\")\n",
    "p70 = Place(\"Protocol\")\n",
    "pn.add_place(p40)\n",
    "pn.add_place(p50)\n",
    "pn.add_place(p60)\n",
    "pn.add_place(p70)\n",
    "\n",
    "print(\"Set of places: \")\n",
    "for place in pn.places:\n",
    "    place.print()"
   ],
   "metadata": {
    "collapsed": false,
    "ExecuteTime": {
     "end_time": "2024-03-14T12:38:31.952285Z",
     "start_time": "2024-03-14T12:38:31.947094Z"
    }
   },
   "id": "2b67679df834a2a7",
   "execution_count": 2
  },
  {
   "cell_type": "markdown",
   "source": [
    "Transitions (activities) are defined.\n",
    "Every transition is defined by its name, input places, output places and callback function that is executed when the transition is fired.\n",
    "\n",
    "Callback function writes info about transition being executed."
   ],
   "metadata": {
    "collapsed": false
   },
   "id": "38d9c900327bf196"
  },
  {
   "cell_type": "code",
   "outputs": [
    {
     "name": "stdout",
     "output_type": "stream",
     "text": [
      "Set of transitions: \n",
      "Transition: Checking payment\n",
      "Input Places: \n",
      "Place Customer has 0 token(s)\n",
      "Place Salesman has 0 token(s)\n",
      "Place Accountant has 1 token(s)\n",
      "Place Financing has 0 token(s)\n",
      "Output Places: \n",
      "Place Salesman has 0 token(s)\n",
      "Place Customer has 0 token(s)\n",
      "Transition: Car hand over\n",
      "Input Places: \n",
      "Place Salesman has 0 token(s)\n",
      "Place Customer has 0 token(s)\n",
      "Place Car has 0 token(s)\n",
      "Output Places: \n",
      "Place Protocol has 0 token(s)\n",
      "Transition: Car selection\n",
      "Input Places: \n",
      "Place Customer has 1 token(s)\n",
      "Place Salesman has 1 token(s)\n",
      "Output Places: \n",
      "Place Customer has 0 token(s)\n",
      "Place Salesman has 0 token(s)\n",
      "Place Order has 0 token(s)\n",
      "Place Order has 0 token(s)\n",
      "Transition: Car ordering\n",
      "Input Places: \n",
      "Place Salesman has 0 token(s)\n",
      "Place Order has 0 token(s)\n",
      "Output Places: \n",
      "Place Salesman has 0 token(s)\n",
      "Place Car has 0 token(s)\n",
      "Transition: Get financing\n",
      "Input Places: \n",
      "Place Customer has 0 token(s)\n",
      "Place Order has 0 token(s)\n",
      "Output Places: \n",
      "Place Customer has 0 token(s)\n",
      "Place Financing has 0 token(s)\n"
     ]
    }
   ],
   "source": [
    "def transition_fired(transition_name):\n",
    "    print(f\"Transition {transition_name} fired!\")\n",
    "\n",
    "car_selection = Transition(\"Car selection\", [p00, p10], [p01, p11, p20, p21],transition_fired)\n",
    "car_ordering = Transition(\"Car ordering\", [p11, p21], [p12, p60], transition_fired)\n",
    "get_financing = Transition(\"Get financing\", [p01, p20], [p02, p50], transition_fired)\n",
    "checking_payment = Transition(\"Checking payment\", [p02, p12, p40, p50], [p13, p03], transition_fired)\n",
    "car_hand_over = Transition(\"Car hand over\", [p13, p03, p60], [p70], transition_fired)\n",
    "\n",
    "pn.add_transition(checking_payment)\n",
    "pn.add_transition(car_hand_over)\n",
    "pn.add_transition(car_selection)\n",
    "pn.add_transition(car_ordering)\n",
    "pn.add_transition(get_financing)\n",
    "\n",
    "print(\"Set of transitions: \")\n",
    "for transition in pn.transitions:\n",
    "    transition.print()"
   ],
   "metadata": {
    "collapsed": false,
    "ExecuteTime": {
     "end_time": "2024-03-14T12:38:31.956425Z",
     "start_time": "2024-03-14T12:38:31.953047Z"
    }
   },
   "id": "5384ebeeac1e8136",
   "execution_count": 3
  },
  {
   "cell_type": "markdown",
   "source": [
    "### Run the process using asynchronous Petri Net"
   ],
   "metadata": {
    "collapsed": false
   },
   "id": "61fae485f1042fa"
  },
  {
   "cell_type": "code",
   "outputs": [
    {
     "name": "stdout",
     "output_type": "stream",
     "text": [
      "Places:\n",
      "Place Customer has 1 token(s)\n",
      "Place Salesman has 1 token(s)\n",
      "Place Accountant has 1 token(s)\n",
      "Transition Car selection fired!\n",
      "Transition Car ordering fired!\n",
      "Transition Get financing fired!\n",
      "Transition Checking payment fired!\n",
      "Transition Car hand over fired!\n",
      "Places:\n",
      "Place Protocol has 1 token(s)\n"
     ]
    }
   ],
   "source": [
    "pn.print_marking()\n",
    "pn.run()\n",
    "pn.print_marking()"
   ],
   "metadata": {
    "collapsed": false,
    "ExecuteTime": {
     "end_time": "2024-03-14T12:38:31.959585Z",
     "start_time": "2024-03-14T12:38:31.957187Z"
    }
   },
   "id": "c35ade071b8ec180",
   "execution_count": 4
  },
  {
   "cell_type": "markdown",
   "source": [
    "![Process Diagram](PN2.png)"
   ],
   "metadata": {
    "collapsed": false
   },
   "id": "2f50abe3a719db17"
  },
  {
   "cell_type": "code",
   "outputs": [],
   "source": [],
   "metadata": {
    "collapsed": false
   },
   "id": "47e7a50693b7e3bc"
  }
 ],
 "metadata": {
  "kernelspec": {
   "display_name": "Python 3",
   "language": "python",
   "name": "python3"
  },
  "language_info": {
   "codemirror_mode": {
    "name": "ipython",
    "version": 2
   },
   "file_extension": ".py",
   "mimetype": "text/x-python",
   "name": "python",
   "nbconvert_exporter": "python",
   "pygments_lexer": "ipython2",
   "version": "2.7.6"
  }
 },
 "nbformat": 4,
 "nbformat_minor": 5
}
